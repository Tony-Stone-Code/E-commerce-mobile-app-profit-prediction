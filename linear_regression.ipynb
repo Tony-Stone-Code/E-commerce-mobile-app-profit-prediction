{
 "cells": [
  {
   "cell_type": "markdown",
   "metadata": {},
   "source": [
    "# IMPORTING LIBRARIES\n"
   ]
  },
  {
   "cell_type": "code",
   "execution_count": 44,
   "metadata": {},
   "outputs": [],
   "source": [
    "# Importing essential libraries for data analysis, machine learning and visualization\n",
    "import pandas as pd\n",
    "import sklearn\n",
    "import seaborn as sb \n",
    "import matplotlib.pyplot as plt\n",
    "import numpy"
   ]
  },
  {
   "cell_type": "markdown",
   "metadata": {},
   "source": [
    "# Loading the dataset "
   ]
  },
  {
   "cell_type": "code",
   "execution_count": null,
   "metadata": {},
   "outputs": [],
   "source": [
    "\n",
    "# loading the dataset from its directory\n",
    "dataset = pd.read_csv('dataset')\n",
    "dataset"
   ]
  },
  {
   "cell_type": "markdown",
   "metadata": {},
   "source": [
    "# Exploratory Data Analysis (EDA)"
   ]
  },
  {
   "cell_type": "code",
   "execution_count": null,
   "metadata": {},
   "outputs": [],
   "source": [
    " # Display the first few rows of the DataFrame to quickly inspect its data and structure\n",
    "dataset.head()\n"
   ]
  },
  {
   "cell_type": "code",
   "execution_count": null,
   "metadata": {},
   "outputs": [],
   "source": [
    "# Provide a concise summary of the DataFrame, including its structure, data types, and memory usage\n",
    "dataset.info()\n"
   ]
  },
  {
   "cell_type": "code",
   "execution_count": null,
   "metadata": {},
   "outputs": [],
   "source": [
    "# Generate descriptive statistics for the DataFrame's numeric columns, including count, mean, std, min, max, and quartiles\n",
    "numerical_summary = dataset.describe().transpose()\n",
    "\n",
    "palette = sb.color_palette(\"viridis\", as_cmap=True)\n",
    "\n",
    "numerical_summary.style.background_gradient(cmap=palette)\n"
   ]
  },
  {
   "cell_type": "markdown",
   "metadata": {},
   "source": [
    "# DATA CLEANING"
   ]
  },
  {
   "cell_type": "code",
   "execution_count": null,
   "metadata": {},
   "outputs": [],
   "source": [
    "#cheaking for null values\n",
    "dataset.isnull().sum()"
   ]
  },
  {
   "cell_type": "code",
   "execution_count": null,
   "metadata": {},
   "outputs": [],
   "source": [
    "#checking for duplicated values\n",
    "dataset.duplicated().sum()"
   ]
  },
  {
   "cell_type": "markdown",
   "metadata": {},
   "source": [
    "# Statistical analysis"
   ]
  },
  {
   "cell_type": "code",
   "execution_count": null,
   "metadata": {},
   "outputs": [],
   "source": [
    "print(dataset['Yearly Amount Spent'].mean(),\n",
    "dataset['Yearly Amount Spent'].median(),\n",
    "dataset['Yearly Amount Spent'].mode())\n"
   ]
  },
  {
   "cell_type": "code",
   "execution_count": null,
   "metadata": {},
   "outputs": [],
   "source": [
    "print('Annual revenue:',dataset['Yearly Amount Spent'].sum())\n",
    "print('Total time on App: ',dataset['Time on App'].sum())"
   ]
  },
  {
   "cell_type": "markdown",
   "metadata": {},
   "source": [
    "# Visualization\n"
   ]
  },
  {
   "cell_type": "code",
   "execution_count": null,
   "metadata": {},
   "outputs": [],
   "source": [
    "numeric_dataset = dataset.select_dtypes(include='number')\n",
    "\n",
    "corr = numeric_dataset.corr()\n",
    "\n",
    "mask_ut = numpy.triu(numpy.ones(corr.shape)).astype(numpy.bool_)\n",
    "\n",
    "plt.figure(figsize=(10, 6))\n",
    "sb.heatmap(corr, annot=True, fmt=\".2f\", cmap=\"icefire\", mask=mask_ut)\n",
    "plt.title(\"Correlation Matrix\")\n",
    "plt.tight_layout()\n",
    "plt.show()"
   ]
  },
  {
   "cell_type": "markdown",
   "metadata": {},
   "source": [
    "# Correlations"
   ]
  },
  {
   "cell_type": "code",
   "execution_count": null,
   "metadata": {},
   "outputs": [],
   "source": [
    "#exploratory data analysis\n",
    "# Do we make more money,if a customer spends more time on the website? \n",
    "\n",
    "sb.jointplot(x=\"Time on Website\",y=\"Yearly Amount Spent\", data=dataset, alpha=0.5)\n",
    "plt.show()\n"
   ]
  },
  {
   "cell_type": "markdown",
   "metadata": {},
   "source": [
    "From the above diagram, we can see that there is no correlation between customers time on the website and the money they spend."
   ]
  },
  {
   "cell_type": "code",
   "execution_count": null,
   "metadata": {},
   "outputs": [],
   "source": [
    "# Do we make more money,if a customer spends more time on the app? \n",
    "sb.jointplot(x=\"Time on App\",y=\"Yearly Amount Spent\", data=dataset, alpha=0.5)\n",
    "plt.show()"
   ]
  },
  {
   "cell_type": "markdown",
   "metadata": {},
   "source": [
    "From the above diagram, we can see that there is correlation between customers time on the app and the money they spend."
   ]
  },
  {
   "cell_type": "code",
   "execution_count": null,
   "metadata": {},
   "outputs": [],
   "source": [
    "#lets compare other variables to see what gives us more money by finding correlations \n",
    "sb.pairplot(dataset,kind='scatter',plot_kws={'alpha':0.5})\n",
    "plt.show()"
   ]
  },
  {
   "cell_type": "markdown",
   "metadata": {},
   "source": [
    "we have seen that there is a correlations between the time on the app and the amaunt of money spent.\n",
    "The longer the membership the more money spent."
   ]
  },
  {
   "cell_type": "code",
   "execution_count": null,
   "metadata": {},
   "outputs": [],
   "source": [
    "# checking the correlation between the membership and the money spent\n",
    "sb.lmplot(data=dataset,x=\"Length of Membership\", y=\"Yearly Amount Spent\",scatter_kws={'alpha':0.5})\n",
    "plt.show()"
   ]
  },
  {
   "cell_type": "markdown",
   "metadata": {},
   "source": [
    "BUILDING A LINEAR REGRESSION MODEL FOR THE E COMMERCE TO PREDICT THE MONEY WE CAN EARN IN A PERIOD OF TIME IF WE INVEST IN GETTING MORE CUSTOMERS.\n",
    "THIS HELPS IN MAKING INVESTMENT DECISIONS"
   ]
  },
  {
   "cell_type": "markdown",
   "metadata": {},
   "source": [
    "# BUILDING THE MODEL (LINEAR REGRESSION)"
   ]
  },
  {
   "cell_type": "code",
   "execution_count": 13,
   "metadata": {},
   "outputs": [],
   "source": [
    "from sklearn.model_selection import train_test_split \n",
    "from sklearn.linear_model import LinearRegression\n",
    "from sklearn.metrics import mean_squared_error, mean_absolute_error\n",
    "from sklearn.linear_model import Lasso\n",
    "from sklearn import metrics"
   ]
  },
  {
   "cell_type": "code",
   "execution_count": 14,
   "metadata": {},
   "outputs": [],
   "source": [
    "# training data\n",
    "x = dataset[['Avg. Session Length','Time on App','Time on Website','Length of Membership']]\n",
    "y = dataset['Yearly Amount Spent']"
   ]
  },
  {
   "cell_type": "code",
   "execution_count": 15,
   "metadata": {},
   "outputs": [],
   "source": [
    "#spliting the data for training\n",
    "x_train,x_test, y_train, y_test = train_test_split(x, y , test_size=0.3, random_state=42)"
   ]
  },
  {
   "cell_type": "markdown",
   "metadata": {},
   "source": [
    "# Training the model\n"
   ]
  },
  {
   "cell_type": "code",
   "execution_count": 16,
   "metadata": {},
   "outputs": [],
   "source": [
    "regression = LinearRegression()"
   ]
  },
  {
   "cell_type": "code",
   "execution_count": null,
   "metadata": {},
   "outputs": [],
   "source": [
    "#fitting the data into the model\n",
    "regression.fit(x_train,y_train)"
   ]
  },
  {
   "cell_type": "code",
   "execution_count": null,
   "metadata": {},
   "outputs": [],
   "source": [
    "coefficient = pd.DataFrame(regression.coef_,x.columns,columns=['coef'])\n",
    "print(coefficient)"
   ]
  },
  {
   "cell_type": "code",
   "execution_count": null,
   "metadata": {},
   "outputs": [],
   "source": [
    "# predictions\n",
    "predictions = regression.predict(x_test)\n",
    "predictions"
   ]
  },
  {
   "cell_type": "code",
   "execution_count": null,
   "metadata": {},
   "outputs": [],
   "source": [
    "## is the money we have predicted similar to what we have made so far?\n",
    "sb.scatterplot(x=predictions,y=y_test)\n",
    "plt.xlabel(\"predictions\")\n",
    "plt.title('evaluation of prediction')\n",
    "plt.show()"
   ]
  },
  {
   "cell_type": "markdown",
   "metadata": {},
   "source": [
    "## Error evaluation of model\n"
   ]
  },
  {
   "cell_type": "code",
   "execution_count": null,
   "metadata": {},
   "outputs": [],
   "source": [
    "# using metrics to measure the error \n",
    "print(\"mean squared error:\" , mean_squared_error(y_test,predictions))\n",
    "print(\"mean squared error:\" , mean_absolute_error(y_test,predictions))\n",
    "# this means that we are 8 dollars error at every prediction"
   ]
  },
  {
   "cell_type": "markdown",
   "metadata": {},
   "source": [
    "## INSIGHTS AND TRENDS\n",
    "\n",
    "The following insights can be gained from the analysis of the data:\n",
    "1.  High Average Spending: The mean \"Yearly Amount Spent\" is $499.31, indicating that customers are spending a significant amount on average. This suggests a potentially high-value customer base.\n",
    "2. Consistent Session Length: The average session length of 33.05 minutes is relatively stable, with a small standard deviation. This suggests that customers are engaging with the platform for a reasonable duration on average.\n",
    "3. Time on App vs. Website: The average time spent on the app (12.05 minutes) is significantly less than the time spent on the website (37.06 minutes). This could indicate that the website might be more feature-rich or the app might have a more streamlined, task-oriented design.\n",
    "4. Membership Length: The average membership length of 3.53 years is fairly long, suggesting strong customer loyalty. The relatively low standard deviation indicates that there's a good deal of consistency in how long customers stay members.\n",
    "\n",
    "\n",
    "# Trends and Observations:\n",
    "\n",
    "1. Potential Correlation: The 50th percentile (median) for \"Yearly Amount Spent\" ($498.89) is very close to the mean ($499.31). This indicates a fairly symmetrical distribution of spending, with fewer extreme outliers on either side of the average.\n",
    "2. Time Spent on App: While the average time spent on the app is lower than the website, the maximum time spent on the app (15.13 minutes) is relatively close to the maximum time spent on the website (40.01 minutes). This might indicate that some users are engaging deeply with the app, perhaps for specific tasks or features.\n",
    "3. Membership Duration: The maximum membership length of 6.92 years is considerably higher than the average, indicating that some customers have been loyal members for a very long time. \n",
    "\n",
    "\n",
    "# Highlights\n",
    "1. There should be more focus on App Engagement: The relatively lower average time spent on the app could be an area for improvement. Consider exploring ways to enhance app features, provide more personalized content, or offer incentives for increased app usage.\n",
    "2. Customer Retention Strategies: The long average membership length suggests that existing customer retention is already good. However, consider strategies to further incentivize long-term engagement and loyalty, such as tiered rewards programs or exclusive offers for high-value customers.\n",
    "3. Value-Oriented Marketing: The high average spending could be a sign that your customer base is willing to invest in your products or services. You might be able to target them with premium offers or more personalized marketing messages.\n",
    "\n",
    "\n",
    "\n",
    "\n"
   ]
  }
 ],
 "metadata": {
  "kernelspec": {
   "display_name": "Python 3",
   "language": "python",
   "name": "python3"
  },
  "language_info": {
   "codemirror_mode": {
    "name": "ipython",
    "version": 3
   },
   "file_extension": ".py",
   "mimetype": "text/x-python",
   "name": "python",
   "nbconvert_exporter": "python",
   "pygments_lexer": "ipython3",
   "version": "3.12.3"
  }
 },
 "nbformat": 4,
 "nbformat_minor": 2
}
